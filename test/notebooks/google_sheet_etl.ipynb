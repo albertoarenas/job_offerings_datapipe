{
 "cells": [
  {
   "cell_type": "code",
   "execution_count": 1,
   "metadata": {},
   "outputs": [],
   "source": [
    "import gspread\n",
    "from google.oauth2.service_account import Credentials\n",
    "import pandas as pd\n",
    "from pandas import Index"
   ]
  },
  {
   "cell_type": "code",
   "execution_count": 2,
   "metadata": {},
   "outputs": [],
   "source": [
    "scope = [\"https://spreadsheets.google.com/feeds\", \n",
    "\"https://www.googleapis.com/auth/drive\"]\n",
    "creds = Credentials.from_service_account_file(\"../../exampleetl-437815-e521d43e4b2e.json\", scopes=scope)"
   ]
  },
  {
   "cell_type": "code",
   "execution_count": 3,
   "metadata": {},
   "outputs": [],
   "source": [
    "client = gspread.authorize(creds)\n",
    "sheet = client.open(\"e-commerce_test\").sheet1 "
   ]
  },
  {
   "cell_type": "code",
   "execution_count": 4,
   "metadata": {},
   "outputs": [],
   "source": [
    "data = sheet.get_all_records(expected_headers=['date', 'city', 'product', 'unit_sales', 'unit_price'])\n",
    "df_raw = pd.DataFrame(data)"
   ]
  },
  {
   "cell_type": "code",
   "execution_count": 5,
   "metadata": {},
   "outputs": [
    {
     "data": {
      "text/html": [
       "<div>\n",
       "<style scoped>\n",
       "    .dataframe tbody tr th:only-of-type {\n",
       "        vertical-align: middle;\n",
       "    }\n",
       "\n",
       "    .dataframe tbody tr th {\n",
       "        vertical-align: top;\n",
       "    }\n",
       "\n",
       "    .dataframe thead th {\n",
       "        text-align: right;\n",
       "    }\n",
       "</style>\n",
       "<table border=\"1\" class=\"dataframe\">\n",
       "  <thead>\n",
       "    <tr style=\"text-align: right;\">\n",
       "      <th></th>\n",
       "      <th>date</th>\n",
       "      <th>city</th>\n",
       "      <th>product</th>\n",
       "      <th>unit_sales</th>\n",
       "      <th>unit_price</th>\n",
       "    </tr>\n",
       "  </thead>\n",
       "  <tbody>\n",
       "    <tr>\n",
       "      <th>0</th>\n",
       "      <td>2024-02-01</td>\n",
       "      <td>Aveiro</td>\n",
       "      <td>mobile_phone</td>\n",
       "      <td>8</td>\n",
       "      <td>$1,030.81</td>\n",
       "    </tr>\n",
       "    <tr>\n",
       "      <th>1</th>\n",
       "      <td>2024-02-26</td>\n",
       "      <td>Sintra</td>\n",
       "      <td>mobile_phone</td>\n",
       "      <td>10</td>\n",
       "      <td>$1,016.33</td>\n",
       "    </tr>\n",
       "    <tr>\n",
       "      <th>2</th>\n",
       "      <td>2024-01-09</td>\n",
       "      <td>Porto</td>\n",
       "      <td>computer</td>\n",
       "      <td>3</td>\n",
       "      <td>$516.55</td>\n",
       "    </tr>\n",
       "    <tr>\n",
       "      <th>3</th>\n",
       "      <td>2024-02-14</td>\n",
       "      <td>Braga</td>\n",
       "      <td>computer</td>\n",
       "      <td>9</td>\n",
       "      <td>$612.37</td>\n",
       "    </tr>\n",
       "    <tr>\n",
       "      <th>4</th>\n",
       "      <td>2024-01-02</td>\n",
       "      <td>Porto</td>\n",
       "      <td>computer</td>\n",
       "      <td>10</td>\n",
       "      <td>$1,055.75</td>\n",
       "    </tr>\n",
       "  </tbody>\n",
       "</table>\n",
       "</div>"
      ],
      "text/plain": [
       "         date    city       product  unit_sales unit_price\n",
       "0  2024-02-01  Aveiro  mobile_phone           8  $1,030.81\n",
       "1  2024-02-26  Sintra  mobile_phone          10  $1,016.33\n",
       "2  2024-01-09   Porto      computer           3    $516.55\n",
       "3  2024-02-14   Braga      computer           9    $612.37\n",
       "4  2024-01-02   Porto      computer          10  $1,055.75"
      ]
     },
     "execution_count": 5,
     "metadata": {},
     "output_type": "execute_result"
    }
   ],
   "source": [
    "df_raw.head()"
   ]
  },
  {
   "cell_type": "code",
   "execution_count": 6,
   "metadata": {},
   "outputs": [
    {
     "name": "stdout",
     "output_type": "stream",
     "text": [
      "<class 'pandas.core.frame.DataFrame'>\n",
      "RangeIndex: 11 entries, 0 to 10\n",
      "Data columns (total 5 columns):\n",
      " #   Column      Non-Null Count  Dtype \n",
      "---  ------      --------------  ----- \n",
      " 0   date        11 non-null     object\n",
      " 1   city        11 non-null     object\n",
      " 2   product     11 non-null     object\n",
      " 3   unit_sales  11 non-null     int64 \n",
      " 4   unit_price  11 non-null     object\n",
      "dtypes: int64(1), object(4)\n",
      "memory usage: 572.0+ bytes\n"
     ]
    }
   ],
   "source": [
    "df_raw.info()"
   ]
  },
  {
   "cell_type": "code",
   "execution_count": 14,
   "metadata": {},
   "outputs": [],
   "source": [
    "valid_product_categories = ['computer', 'mobile_phone']\n",
    "valid_city_name = []\n",
    "\n",
    "df_clean = (\n",
    "    df_raw\n",
    "    .assign(unit_price=lambda _df: _df.unit_price.str.replace('$','').str.replace(',','').astype(float)) \n",
    "    .assign(date=lambda _df: pd.to_datetime(_df.date))\n",
    "    .assign(product=lambda _df: pd.Categorical(_df['product'], categories=valid_product_categories))\n",
    ")"
   ]
  },
  {
   "cell_type": "code",
   "execution_count": 15,
   "metadata": {},
   "outputs": [
    {
     "name": "stdout",
     "output_type": "stream",
     "text": [
      "<class 'pandas.core.frame.DataFrame'>\n",
      "RangeIndex: 11 entries, 0 to 10\n",
      "Data columns (total 5 columns):\n",
      " #   Column      Non-Null Count  Dtype         \n",
      "---  ------      --------------  -----         \n",
      " 0   date        11 non-null     datetime64[ns]\n",
      " 1   city        11 non-null     object        \n",
      " 2   product     11 non-null     category      \n",
      " 3   unit_sales  11 non-null     int64         \n",
      " 4   unit_price  11 non-null     float64       \n",
      "dtypes: category(1), datetime64[ns](1), float64(1), int64(1), object(1)\n",
      "memory usage: 619.0+ bytes\n"
     ]
    }
   ],
   "source": [
    "df_clean.info()"
   ]
  },
  {
   "cell_type": "code",
   "execution_count": null,
   "metadata": {},
   "outputs": [],
   "source": []
  }
 ],
 "metadata": {
  "kernelspec": {
   "display_name": ".venv",
   "language": "python",
   "name": "python3"
  },
  "language_info": {
   "codemirror_mode": {
    "name": "ipython",
    "version": 3
   },
   "file_extension": ".py",
   "mimetype": "text/x-python",
   "name": "python",
   "nbconvert_exporter": "python",
   "pygments_lexer": "ipython3",
   "version": "3.12.5"
  }
 },
 "nbformat": 4,
 "nbformat_minor": 2
}
